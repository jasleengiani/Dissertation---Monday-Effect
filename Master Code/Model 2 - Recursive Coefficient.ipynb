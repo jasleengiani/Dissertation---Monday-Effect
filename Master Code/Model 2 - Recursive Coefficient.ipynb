{
 "cells": [
  {
   "cell_type": "code",
   "execution_count": null,
   "metadata": {},
   "outputs": [],
   "source": [
    "# Model 4 - Recursive Coefficient Estimation"
   ]
  },
  {
   "cell_type": "code",
   "execution_count": null,
   "metadata": {},
   "outputs": [],
   "source": [
    "#Importing the Excel file into Python\n",
    "\n",
    "import pandas as pd\n",
    "import numpy as np\n",
    "import statsmodels.api as sm\n",
    "\n",
    "# Replace 'your_file.csv' with the path to your actual CSV file\n",
    "data = pd.read_excel(\"G:/My Drive/Ireland - Jasleen/Trinity/Coursework/Dissertation/Drafts/Analysis and Findings/Country Wise Analysis/NIFTY 50 CleanData.xlsx\")\n",
    "\n",
    "# Check for missing values and remove rows with missing returns\n",
    "data = data.dropna(subset=['Return'])\n",
    "\n",
    "# Display the first few rows of the dataframe\n",
    "print(data.head(20))"
   ]
  },
  {
   "cell_type": "code",
   "execution_count": null,
   "metadata": {},
   "outputs": [],
   "source": [
    "# Defining data range\n",
    "# Specify the start and end dates of the desired range\n",
    "start_date = '2016-05-02'\n",
    "end_date = '2024-05-10'\n",
    "\n",
    "# Filter the dataframe based on the date range\n",
    "data = data.loc[(data['Date'] >= start_date) & (data['Date'] <= end_date)]\n",
    "\n",
    "# Print the selected columns\n",
    "print(data)"
   ]
  },
  {
   "cell_type": "code",
   "execution_count": null,
   "metadata": {},
   "outputs": [],
   "source": [
    "# Drop rows with NaT in the 'Date' column\n",
    "data = data.dropna(subset=['Date'])\n",
    "\n",
    "# Extract the day of the week from the 'Date' column\n",
    "data['Day_of_Week'] = data['Date'].dt.day_name()\n",
    "\n",
    "# Perform one-hot encoding to create dummy variables for each day of the week\n",
    "data_with_dummies = pd.get_dummies(data, columns=['Day_of_Week'], drop_first=False)\n",
    "\n",
    "# Check if any of the columns contain boolean values and convert them to integer (0 and 1)\n",
    "for col in data_with_dummies.columns:\n",
    "    if data_with_dummies[col].dtype == 'bool':\n",
    "        data_with_dummies[col] = data_with_dummies[col].astype(int)\n",
    "\n",
    "\n",
    "# Display the resulting dataframe\n",
    "data_with_dummies.head()\n",
    "\n",
    "# import statsmodels.api as sm\n",
    "\n",
    "# Define the independent variables (dummy variables for days of the week)\n",
    "X_1 = data_with_dummies[['Day_of_Week_Monday', \n",
    "                       'Day_of_Week_Thursday', 'Day_of_Week_Tuesday', \n",
    "                       'Day_of_Week_Wednesday','Day_of_Week_Friday']]\n",
    "\n",
    "# Define the dependent variable (Returns)\n",
    "Y_1 = data_with_dummies['Return']"
   ]
  },
  {
   "cell_type": "code",
   "execution_count": null,
   "metadata": {},
   "outputs": [],
   "source": [
    "data_with_dummies.columns\n",
    "\n",
    "data_with_dummies['Date'] = pd.to_datetime(data_with_dummies['Date'])\n",
    "data_with_dummies.set_index('Date', inplace=True)"
   ]
  },
  {
   "cell_type": "code",
   "execution_count": null,
   "metadata": {},
   "outputs": [],
   "source": [
    "# Recursive Regression Formula\n",
    "\n",
    "import statsmodels.formula.api as smf\n",
    "def recursive_reg(variable, i, interval):\n",
    "    # formula = 'Return ~ Day_of_Week_Monday + Day_of_Week_Thursday + Day_of_Week_Tuesday + Day_of_Week_Wednesday + Day_of_Week_Friday'\n",
    "    formula = 'Return ~ Day_of_Week_Monday'\n",
    "    results = smf.ols(formula, data_with_dummies.iloc[:i+interval]).fit()\n",
    "    coeff=results.params[variable]\n",
    "    se=results.bse[variable]\n",
    "\n",
    "    return coeff, se"
   ]
  },
  {
   "cell_type": "code",
   "execution_count": null,
   "metadata": {},
   "outputs": [],
   "source": [
    "# Generate SE and Coefficients for each day of the week\n",
    "\n",
    "parameters = [] \n",
    "for i in range (0, len(data_with_dummies)-5):\n",
    "    coeff, se = recursive_reg('Day_of_Week_Monday', i, 5)\n",
    "    parameters.append((coeff, se))\n",
    "\n",
    "parameters=pd.DataFrame(parameters, columns=['coeff', 'se']\\\n",
    "                        , index=data_with_dummies.index[5:])\n",
    "parameters['Day_of_Week_Monday + 2*se'] = parameters['coeff'] + 2*parameters['se']\n",
    "parameters['Day_of_Week_Monday - 2*se'] = parameters['coeff'] - 2*parameters['se']"
   ]
  },
  {
   "cell_type": "code",
   "execution_count": null,
   "metadata": {},
   "outputs": [],
   "source": [
    "#Plotting the graph\n",
    "\n",
    "import matplotlib.pyplot as plt\n",
    "\n",
    "plt.figure()\n",
    "plt.plot(parameters['coeff'], label=r'$\\beta_{Monday}$')\n",
    "plt.plot(parameters['Day_of_Week_Monday + 2*se'], label=r'$\\beta_{Monday} + 2*SE$', linestyle='dashed')\n",
    "plt.plot(parameters['Day_of_Week_Monday - 2*se'], label=r'$\\beta_{Monday} - 2*SE$', linestyle='dashed')\n",
    "plt.ylim(-3, 4)\n",
    "plt.xlabel('Date')\n",
    "plt.ylabel('Return (%)')\n",
    "plt.grid(True)\n",
    "plt.legend()\n",
    "plt.show()"
   ]
  }
 ],
 "metadata": {
  "kernelspec": {
   "display_name": "Python 3",
   "language": "python",
   "name": "python3"
  },
  "language_info": {
   "codemirror_mode": {
    "name": "ipython",
    "version": 3
   },
   "file_extension": ".py",
   "mimetype": "text/x-python",
   "name": "python",
   "nbconvert_exporter": "python",
   "pygments_lexer": "ipython3",
   "version": "3.11.4"
  }
 },
 "nbformat": 4,
 "nbformat_minor": 2
}

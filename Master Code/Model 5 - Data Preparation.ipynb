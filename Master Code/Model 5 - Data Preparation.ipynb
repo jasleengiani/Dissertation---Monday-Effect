{
 "cells": [
  {
   "cell_type": "code",
   "execution_count": null,
   "metadata": {},
   "outputs": [],
   "source": [
    "import pandas as pd\n",
    "\n",
    "# Load the dataset\n",
    "file_path = \"G:/My Drive/Ireland - Jasleen/Trinity/Coursework/Dissertation/Drafts/Initial Data and EDA/US/S&P 500_v01.xlsx\"\n",
    "df = pd.read_excel(file_path,sheet_name=\"Data Upload\")\n",
    "\n",
    "# Display the first few rows to understand its structure\n",
    "df.head()"
   ]
  },
  {
   "cell_type": "code",
   "execution_count": null,
   "metadata": {},
   "outputs": [],
   "source": [
    "# Assign proper column names from the first row and drop that row\n",
    "df.columns = df.iloc[0]\n",
    "df = df[1:]\n",
    "\n",
    "df.dropna(inplace=True)\n",
    "\n",
    "# Display the first few rows to confirm the changes\n",
    "df.head()"
   ]
  },
  {
   "cell_type": "code",
   "execution_count": null,
   "metadata": {},
   "outputs": [],
   "source": [
    "# df = df.dropna(subset=['Date'])\n",
    "\n",
    "df.set_index('Date', inplace=True)\n",
    "    \n",
    "\n",
    "# Add a new column for the week each date belongs to\n",
    "df['Week'] = df.index.to_period('W')\n",
    "\n",
    "df['Day of Week'] = df.index.day_name()\n",
    "\n",
    "df = df[~df['Day of Week'].isin(['Saturday', 'Sunday'])]\n",
    "\n",
    "# Group by week and filter out the weeks with less than 5 days\n",
    "df_filtered = df.groupby(pd.Grouper(freq='W')).filter(lambda x: len(x) >= 5)\n",
    "\n",
    "# tools.display_dataframe_to_user(name=\"Filtered NIFTY 50 Data\", dataframe=df_filtered)\n",
    "\n",
    "# Display the filtered dataframe\n",
    "df_filtered.head()"
   ]
  },
  {
   "cell_type": "code",
   "execution_count": null,
   "metadata": {},
   "outputs": [],
   "source": [
    "df_filtered.head()"
   ]
  },
  {
   "cell_type": "code",
   "execution_count": null,
   "metadata": {},
   "outputs": [],
   "source": [
    "df_filtered.tail()"
   ]
  },
  {
   "cell_type": "code",
   "execution_count": null,
   "metadata": {},
   "outputs": [],
   "source": [
    "row_count = df_filtered.shape[0]\n",
    "print(\"Number of rows in the dataset:\", row_count)\n",
    "\n",
    "df_filtered.to_excel(\"G:/My Drive/Ireland - Jasleen/Trinity/Coursework/Dissertation/Drafts/Analysis and Findings/Country Wise Analysis/S&P 500 CleanData.xlsx\")"
   ]
  }
 ],
 "metadata": {
  "kernelspec": {
   "display_name": "Python 3",
   "language": "python",
   "name": "python3"
  },
  "language_info": {
   "codemirror_mode": {
    "name": "ipython",
    "version": 3
   },
   "file_extension": ".py",
   "mimetype": "text/x-python",
   "name": "python",
   "nbconvert_exporter": "python",
   "pygments_lexer": "ipython3",
   "version": "3.11.4"
  }
 },
 "nbformat": 4,
 "nbformat_minor": 2
}

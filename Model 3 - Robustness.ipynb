{
 "cells": [
  {
   "cell_type": "code",
   "execution_count": null,
   "metadata": {},
   "outputs": [],
   "source": [
    "#Importing the Excel file into Python\n",
    "\n",
    "import pandas as pd\n",
    "import numpy as np\n",
    "import statsmodels.api as sm\n",
    "\n",
    "# Replace 'your_file.csv' with the path to your actual CSV file\n",
    "data = pd.read_excel(\"G:/My Drive/Ireland - Jasleen/Trinity/Coursework/Dissertation/Drafts/Analysis and Findings/Country Wise Analysis/NIFTY 50 CleanData.xlsx\")\n",
    "\n",
    "# Check for missing values and remove rows with missing returns\n",
    "data = data.dropna(subset=['Return'])\n",
    "\n",
    "# Display the first few rows of the dataframe\n",
    "print(data.head(20))"
   ]
  },
  {
   "cell_type": "code",
   "execution_count": null,
   "metadata": {},
   "outputs": [],
   "source": [
    "# Defining data range\n",
    "# Specify the start and end dates of the desired range\n",
    "start_date = '2016-05-02'\n",
    "end_date = '2024-05-10'\n",
    "\n",
    "# Filter the dataframe based on the date range\n",
    "data = data.loc[(data['Date'] >= start_date) & (data['Date'] <= end_date)]\n",
    "\n",
    "# Print the selected columns\n",
    "print(data)"
   ]
  },
  {
   "cell_type": "code",
   "execution_count": null,
   "metadata": {},
   "outputs": [],
   "source": [
    "# Drop rows with NaT in the 'Date' column\n",
    "data = data.dropna(subset=['Date'])\n",
    "\n",
    "# Extract the day of the week from the 'Date' column\n",
    "data['Day_of_Week'] = data['Date'].dt.day_name()\n",
    "\n",
    "# Perform one-hot encoding to create dummy variables for each day of the week\n",
    "data_with_dummies = pd.get_dummies(data, columns=['Day_of_Week'], drop_first=False)\n",
    "\n",
    "# Check if any of the columns contain boolean values and convert them to integer (0 and 1)\n",
    "for col in data_with_dummies.columns:\n",
    "    if data_with_dummies[col].dtype == 'bool':\n",
    "        data_with_dummies[col] = data_with_dummies[col].astype(int)\n",
    "\n",
    "# Display the resulting dataframe\n",
    "data_with_dummies.head()"
   ]
  },
  {
   "cell_type": "code",
   "execution_count": null,
   "metadata": {},
   "outputs": [],
   "source": [
    "# Sort by the 'Return' column in descending order\n",
    "sorted_df = data_with_dummies.sort_values(by='Return', ascending=False)\n",
    "print(sorted_df.head(10))"
   ]
  },
  {
   "cell_type": "code",
   "execution_count": null,
   "metadata": {},
   "outputs": [],
   "source": [
    "# Calculating the indices / rows for each\n",
    "\n",
    "total_rows = len(sorted_df)\n",
    "top_20_percent_index = int(0.2 * total_rows)\n",
    "bottom_20_percent_index = int(0.8 * total_rows)"
   ]
  },
  {
   "cell_type": "code",
   "execution_count": null,
   "metadata": {},
   "outputs": [],
   "source": [
    "# Top 20%\n",
    "top_20_df = sorted_df.head(top_20_percent_index)\n",
    "\n",
    "# Bottom 20%\n",
    "bottom_20_df = sorted_df.tail(total_rows - bottom_20_percent_index)\n",
    "\n",
    "# Middle 60%\n",
    "middle_60_df = sorted_df.iloc[top_20_percent_index:bottom_20_percent_index]"
   ]
  },
  {
   "cell_type": "code",
   "execution_count": null,
   "metadata": {},
   "outputs": [],
   "source": [
    "# Top 20% Stats\n",
    "\n",
    "from statsmodels.formula.api import ols\n",
    "import statsmodels.api as sm\n",
    "\n",
    "# Define the independent variables (dummy variables for days of the week)\n",
    "X_6 = top_20_df[['Day_of_Week_Monday', \n",
    "                       'Day_of_Week_Thursday', 'Day_of_Week_Tuesday', \n",
    "                       'Day_of_Week_Wednesday','Day_of_Week_Friday']]\n",
    "\n",
    "# Define the dependent variable (Returns)\n",
    "Y_6 = top_20_df['Return']\n",
    "# Check data types\n",
    "# print(data_with_dummies.dtypes)\n",
    "\n",
    "# Create the ANOVA model\n",
    "ANOVAmodel = ols('Y_6~X_6', data=top_20_df).fit()\n",
    "\n",
    "# Perform ANOVA\n",
    "anova_table = sm.stats.anova_lm(ANOVAmodel)\n",
    "\n",
    "# Print the ANOVA table\n",
    "print(anova_table)\n",
    "\n",
    "# Perform OLS regression\n",
    "model6 = sm.OLS(Y_6, X_6).fit()\n",
    "\n",
    "# Print the summary of the regression\n",
    "print(model6.summary())"
   ]
  },
  {
   "cell_type": "code",
   "execution_count": null,
   "metadata": {},
   "outputs": [],
   "source": [
    "from statsmodels.stats.diagnostic import het_breuschpagan, acorr_breusch_godfrey, het_arch\n",
    "# Add a constant column to the exog variable\n",
    "exog_with_constant = sm.add_constant(model6.model.exog)\n",
    "\n",
    "# Perform the Breusch-Pagan test with the updated exog variable\n",
    "bp_test = het_breuschpagan(model6.resid, exog_with_constant)\n",
    "bp_labels = ['Lagrange multiplier statistic', 'p-value', 'f-value', 'f p-value']\n",
    "print(\"Breusch-Pagan test:\", dict(zip(bp_labels, bp_test)))\n",
    "\n",
    "# Breusch-Godfrey test for autocorrelation\n",
    "bg_test = acorr_breusch_godfrey(model6, nlags=1)\n",
    "bg_labels = ['Lagrange multiplier statistic', 'p-value', 'f-value', 'f p-value']\n",
    "print(\"Breusch-Godfrey test:\", dict(zip(bg_labels, bg_test)))\n"
   ]
  },
  {
   "cell_type": "code",
   "execution_count": null,
   "metadata": {},
   "outputs": [],
   "source": [
    "# Newey-West standard errors - Corrects for autocorrelation\n",
    "nw_summary = model6.get_robustcov_results(cov_type='HAC', maxlags=1)\n",
    "print(nw_summary.summary())\n",
    "\n",
    "#Addressing heteroscedasticity\n",
    "robust_summary = model6.get_robustcov_results(cov_type='HC1')\n",
    "print(robust_summary.summary())"
   ]
  },
  {
   "cell_type": "code",
   "execution_count": null,
   "metadata": {},
   "outputs": [],
   "source": [
    "# Middle 60% Stats\n",
    "\n",
    "import statsmodels.api as sm\n",
    "\n",
    "# Define the independent variables (dummy variables for days of the week)\n",
    "X_7 = middle_60_df[['Day_of_Week_Monday', \n",
    "                       'Day_of_Week_Thursday', 'Day_of_Week_Tuesday', \n",
    "                       'Day_of_Week_Wednesday','Day_of_Week_Friday']]\n",
    "\n",
    "# Define the dependent variable (Returns)\n",
    "Y_7 = middle_60_df['Return']\n",
    "# Check data types\n",
    "# print(data_with_dummies.dtypes)\n",
    "\n",
    "# Create the ANOVA model\n",
    "ANOVAmodel = ols('Y_7~X_7', data=middle_60_df).fit()\n",
    "\n",
    "# Perform ANOVA\n",
    "anova_table = sm.stats.anova_lm(ANOVAmodel)\n",
    "\n",
    "# Print the ANOVA table\n",
    "print(anova_table)\n",
    "\n",
    "# Perform OLS regression\n",
    "model7 = sm.OLS(Y_7, X_7).fit()\n",
    "\n",
    "# Print the summary of the regression\n",
    "print(model7.summary())\n"
   ]
  },
  {
   "cell_type": "code",
   "execution_count": null,
   "metadata": {},
   "outputs": [],
   "source": [
    "from statsmodels.stats.diagnostic import het_breuschpagan, acorr_breusch_godfrey, het_arch\n",
    "# Add a constant column to the exog variable\n",
    "exog_with_constant = sm.add_constant(model7.model.exog)\n",
    "\n",
    "# Perform the Breusch-Pagan test with the updated exog variable\n",
    "bp_test = het_breuschpagan(model7.resid, exog_with_constant)\n",
    "bp_labels = ['Lagrange multiplier statistic', 'p-value', 'f-value', 'f p-value']\n",
    "print(\"Breusch-Pagan test:\", dict(zip(bp_labels, bp_test)))\n",
    "\n",
    "# Breusch-Godfrey test for autocorrelation\n",
    "bg_test = acorr_breusch_godfrey(model7, nlags=1)\n",
    "bg_labels = ['Lagrange multiplier statistic', 'p-value', 'f-value', 'f p-value']\n",
    "print(\"Breusch-Godfrey test:\", dict(zip(bg_labels, bg_test)))\n"
   ]
  },
  {
   "cell_type": "code",
   "execution_count": null,
   "metadata": {},
   "outputs": [],
   "source": [
    "# Newey-West standard errors - Corrects for autocorrelation\n",
    "nw_summary = model7.get_robustcov_results(cov_type='HAC', maxlags=1)\n",
    "print(nw_summary.summary())\n",
    "\n",
    "#Addressing heteroscedasticity\n",
    "robust_summary = model7.get_robustcov_results(cov_type='HC1')\n",
    "print(robust_summary.summary())"
   ]
  },
  {
   "cell_type": "code",
   "execution_count": null,
   "metadata": {},
   "outputs": [],
   "source": [
    "# Bottom 20% Stats\n",
    "\n",
    "import statsmodels.api as sm\n",
    "\n",
    "# Define the independent variables (dummy variables for days of the week)\n",
    "X_8 = bottom_20_df[['Day_of_Week_Monday', \n",
    "                       'Day_of_Week_Thursday', 'Day_of_Week_Tuesday', \n",
    "                       'Day_of_Week_Wednesday','Day_of_Week_Friday']]\n",
    "\n",
    "# Define the dependent variable (Returns)\n",
    "Y_8 = bottom_20_df['Return']\n",
    "# Check data types\n",
    "# print(data_with_dummies.dtypes)\n",
    "\n",
    "# Create the ANOVA model\n",
    "ANOVAmodel = ols('Y_8~X_8', data=bottom_20_df).fit()\n",
    "\n",
    "# Perform ANOVA\n",
    "anova_table = sm.stats.anova_lm(ANOVAmodel)\n",
    "\n",
    "# Print the ANOVA table\n",
    "print(anova_table)\n",
    "\n",
    "# Perform OLS regression\n",
    "model8 = sm.OLS(Y_8, X_8).fit()\n",
    "\n",
    "# Print the summary of the regression\n",
    "print(model8.summary())"
   ]
  },
  {
   "cell_type": "code",
   "execution_count": null,
   "metadata": {},
   "outputs": [],
   "source": [
    "from statsmodels.stats.diagnostic import het_breuschpagan, acorr_breusch_godfrey, het_arch\n",
    "# Add a constant column to the exog variable\n",
    "exog_with_constant = sm.add_constant(model8.model.exog)\n",
    "\n",
    "# Perform the Breusch-Pagan test with the updated exog variable\n",
    "bp_test = het_breuschpagan(model8.resid, exog_with_constant)\n",
    "bp_labels = ['Lagrange multiplier statistic', 'p-value', 'f-value', 'f p-value']\n",
    "print(\"Breusch-Pagan test:\", dict(zip(bp_labels, bp_test)))\n",
    "\n",
    "# Breusch-Godfrey test for autocorrelation\n",
    "bg_test = acorr_breusch_godfrey(model8, nlags=1)\n",
    "bg_labels = ['Lagrange multiplier statistic', 'p-value', 'f-value', 'f p-value']\n",
    "print(\"Breusch-Godfrey test:\", dict(zip(bg_labels, bg_test)))\n"
   ]
  },
  {
   "cell_type": "code",
   "execution_count": null,
   "metadata": {},
   "outputs": [],
   "source": [
    "# Newey-West standard errors - Corrects for autocorrelation\n",
    "nw_summary = model8.get_robustcov_results(cov_type='HAC', maxlags=1)\n",
    "print(nw_summary.summary())\n",
    "\n",
    "#Addressing heteroscedasticity\n",
    "robust_summary = model8.get_robustcov_results(cov_type='HC1')\n",
    "print(robust_summary.summary())"
   ]
  }
 ],
 "metadata": {
  "kernelspec": {
   "display_name": "Python 3",
   "language": "python",
   "name": "python3"
  },
  "language_info": {
   "codemirror_mode": {
    "name": "ipython",
    "version": 3
   },
   "file_extension": ".py",
   "mimetype": "text/x-python",
   "name": "python",
   "nbconvert_exporter": "python",
   "pygments_lexer": "ipython3",
   "version": "3.11.4"
  }
 },
 "nbformat": 4,
 "nbformat_minor": 2
}

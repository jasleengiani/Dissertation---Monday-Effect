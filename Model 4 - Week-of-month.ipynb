{
 "cells": [
  {
   "cell_type": "code",
   "execution_count": null,
   "metadata": {},
   "outputs": [],
   "source": [
    "#Importing the Excel file into Python\n",
    "\n",
    "import pandas as pd\n",
    "import numpy as np\n",
    "import statsmodels.api as sm\n",
    "\n",
    "# Replace 'your_file.csv' with the path to your actual CSV file\n",
    "data = pd.read_excel(\"G:/My Drive/Ireland - Jasleen/Trinity/Coursework/Dissertation/Drafts/Analysis and Findings/Country Wise Analysis/NIFTY 50 CleanData.xlsx\")\n",
    "\n",
    "# Check for missing values and remove rows with missing returns\n",
    "data = data.dropna(subset=['Return'])\n",
    "\n",
    "# Selecting specific columns from the dataset\n",
    "data = data[['Date', 'PX_LAST', 'Return','Day of the week']]\n",
    "\n",
    "# Display the first few rows of the dataframe\n",
    "print(data.head(40))"
   ]
  },
  {
   "cell_type": "code",
   "execution_count": null,
   "metadata": {},
   "outputs": [],
   "source": [
    "# Specify the start and end dates of the desired range\n",
    "start_date = '2016-04-25'\n",
    "end_date = '2024-05-10'\n",
    "\n",
    "# Filter the dataframe based on the date range\n",
    "data = data.loc[(data['Date'] >= start_date) & (data['Date'] <= end_date)]\n",
    "\n",
    "# Print the filtered dataframe\n",
    "# print(data.head(40))"
   ]
  },
  {
   "cell_type": "code",
   "execution_count": null,
   "metadata": {},
   "outputs": [],
   "source": [
    "import pandas as pd\n",
    "\n",
    "# Load the data from the provided Excel file\n",
    "# file_path = '/mnt/data/NIFTY_50_Data_with_Week_Column.xlsx'\n",
    "# data = pd.read_excel(file_path)\n",
    "\n",
    "# Ensure the 'Date' column is in datetime format\n",
    "data['Date'] = pd.to_datetime(data['Date'])\n",
    "\n",
    "# Identify the first trading day of the month\n",
    "data['Month'] = data['Date'].dt.to_period('M')\n",
    "first_trading_day_of_month = data.groupby('Month')['Date'].transform('min')\n",
    "data['First_Trading_Day'] = first_trading_day_of_month\n",
    "\n",
    "# Define the function to calculate the week of the month\n",
    "def get_week_of_month(row):\n",
    "    date = row['Date']\n",
    "    # first_day_of_month = date.replace(day=1)\n",
    "    first_trading_day = row['First_Trading_Day']\n",
    "\n",
    "    # Check if the first trading day of the month is a Monday\n",
    "    if first_trading_day.weekday() == 0:  # Monday is represented by 0\n",
    "        # Apply specific formula for all dates in months that begin with Monday\n",
    "        # first_monday_of_month = first_trading_day\n",
    "        return ((date - first_trading_day).days // 7) + 1\n",
    "    else:\n",
    "        # Find the first Monday of the month\n",
    "        first_monday_of_month = first_trading_day + pd.offsets.Week(weekday=0)\n",
    "        if date < first_monday_of_month:\n",
    "            return 1\n",
    "        else:\n",
    "            return ((date - first_monday_of_month).days // 7) + 2\n",
    "\n",
    "# Apply the function to calculate the week of the month for each date\n",
    "data['Week_of_Month'] = data.apply(get_week_of_month, axis=1)\n",
    "\n",
    "# Save the modified DataFrame to a new Excel file\n",
    "# output_file_path = '/mnt/data/NIFTY_50_Data_with_Week_of_Month_Corrected.xlsx'\n",
    "# data.to_excel(\"G:/My Drive/Ireland - Jasleen/Trinity/Coursework/Dissertation/Drafts/Analysis and Findings/Model 2/Final Data File.xlsx\", index=False)\n",
    "\n",
    "# import ace_tools as tools; tools.display_dataframe_to_user(name=\"Corrected Trading Data with Week of Month\", dataframe=data)\n",
    "\n",
    "# Displaying the first few rows to verify\n",
    "data.head(60)\n"
   ]
  },
  {
   "cell_type": "code",
   "execution_count": null,
   "metadata": {
    "vscode": {
     "languageId": "shellscript"
    }
   },
   "outputs": [],
   "source": [
    "# Filter the data to include only Mondays\n",
    "monday_data = data[data['Day of the week'] == \"Monday\"].copy()\n",
    "\n",
    "# Specify the start and end dates of the desired range\n",
    "start_date = '2016-05-02'\n",
    "end_date = '2024-05-10'\n",
    "\n",
    "# Filter the dataframe based on the date range\n",
    "monday_data = monday_data.loc[(monday_data['Date'] >= start_date) & (monday_data['Date'] <= end_date)]\n",
    "\n",
    "print(monday_data.head(30))"
   ]
  },
  {
   "cell_type": "code",
   "execution_count": null,
   "metadata": {
    "vscode": {
     "languageId": "shellscript"
    }
   },
   "outputs": [],
   "source": [
    "# Create dummy variables for each week of the month\n",
    "week_dummies = pd.get_dummies(monday_data['Week_of_Month'], prefix='Week').astype(int)\n",
    "\n",
    "# Assuming `week_dummies` is the DataFrame containing the dummy variables\n",
    "# week_dummies = week_dummies.astype(int)\n",
    "\n",
    "# Print the updated DataFrame\n",
    "# print(week_dummies.head(10))\n",
    "\n",
    "# Concatenate the dummy variables with the original dataframe\n",
    "monday_data = pd.concat([monday_data, week_dummies], axis=1)\n",
    "\n",
    "# Print the updated dataframe\n",
    "print(monday_data.head(60))"
   ]
  },
  {
   "cell_type": "code",
   "execution_count": null,
   "metadata": {
    "vscode": {
     "languageId": "shellscript"
    }
   },
   "outputs": [],
   "source": [
    "# Define the response variable (returns)\n",
    "Y_1 = monday_data['Return']  # Assuming 'Return' is the column name for returns\n",
    "\n",
    "# Define the explanatory variables (dummy variables)\n",
    "X_1 = monday_data[['Week_1', 'Week_2', 'Week_3', 'Week_4', 'Week_5']]\n",
    "\n",
    "print(monday_data.dtypes)"
   ]
  },
  {
   "cell_type": "code",
   "execution_count": null,
   "metadata": {
    "vscode": {
     "languageId": "shellscript"
    }
   },
   "outputs": [],
   "source": [
    "#ANOVA model\n",
    "\n",
    "from statsmodels.formula.api import ols\n",
    "import statsmodels.api as sm\n",
    "\n",
    "# Create the ANOVA model\n",
    "ANOVAmodel = ols('Y_1~X_1', data=monday_data).fit()\n",
    "\n",
    "# Perform ANOVA\n",
    "anova_table = sm.stats.anova_lm(ANOVAmodel)\n",
    "\n",
    "# Print the ANOVA table\n",
    "print(anova_table)"
   ]
  },
  {
   "cell_type": "code",
   "execution_count": null,
   "metadata": {
    "vscode": {
     "languageId": "shellscript"
    }
   },
   "outputs": [],
   "source": [
    "# Perform OLS regression\n",
    "model1 = sm.OLS(Y_1, X_1).fit()\n",
    "\n",
    "# Print the summary of the regression\n",
    "print(model1.summary())"
   ]
  },
  {
   "cell_type": "code",
   "execution_count": null,
   "metadata": {
    "vscode": {
     "languageId": "shellscript"
    }
   },
   "outputs": [],
   "source": [
    "from statsmodels.stats.diagnostic import het_breuschpagan, acorr_breusch_godfrey, het_arch\n",
    "# Add a constant column to the exog variable\n",
    "exog_with_constant = sm.add_constant(model1.model.exog)\n",
    "\n",
    "# Perform the Breusch-Pagan test with the updated exog variable\n",
    "bp_test = het_breuschpagan(model1.resid, exog_with_constant)\n",
    "bp_labels = ['Lagrange multiplier statistic', 'p-value', 'f-value', 'f p-value']\n",
    "print(\"Breusch-Pagan test:\", dict(zip(bp_labels, bp_test)))\n",
    "\n",
    "# Breusch-Godfrey test for autocorrelation\n",
    "bg_test = acorr_breusch_godfrey(model1, nlags=1)\n",
    "bg_labels = ['Lagrange multiplier statistic', 'p-value', 'f-value', 'f p-value']\n",
    "print(\"Breusch-Godfrey test:\", dict(zip(bg_labels, bg_test)))\n",
    "\n"
   ]
  },
  {
   "cell_type": "code",
   "execution_count": null,
   "metadata": {
    "vscode": {
     "languageId": "shellscript"
    }
   },
   "outputs": [],
   "source": [
    "# Newey-West standard errors - Corrects for autocorrelation\n",
    "nw_summary = model1.get_robustcov_results(cov_type='HAC', maxlags=1)\n",
    "print(nw_summary.summary())\n",
    "\n",
    "#Addressing heteroscedasticity\n",
    "robust_summary = model1.get_robustcov_results(cov_type='HC1')\n",
    "print(robust_summary.summary())"
   ]
  },
  {
   "cell_type": "code",
   "execution_count": null,
   "metadata": {
    "vscode": {
     "languageId": "shellscript"
    }
   },
   "outputs": [],
   "source": [
    "# DURING COVID DATA\n",
    "\n",
    "# Defining data range\n",
    "# Specify the start and end dates of the desired range\n",
    "start_date = '2020-01-01'\n",
    "end_date = '2021-12-31'\n",
    "\n",
    "# Filter the dataframe based on the date range\n",
    "duringcovid_data = monday_data.loc[(monday_data['Date'] >= start_date) & (monday_data['Date'] <= end_date)]\n",
    "\n",
    "# Print the selected columns\n",
    "print(duringcovid_data)\n",
    "\n",
    "# Define the response variable (returns)\n",
    "Y_2 = duringcovid_data['Return']  # Assuming 'Return' is the column name for returns\n",
    "\n",
    "# Define the explanatory variables (dummy variables)\n",
    "X_2 = duringcovid_data[['Week_1', 'Week_2', 'Week_3', 'Week_4', 'Week_5']]\n",
    "\n",
    "print(duringcovid_data.dtypes)\n",
    "\n",
    "# Add a constant term for the intercept\n",
    "# X_2 = sm.add_constant(X_2)\n",
    "\n",
    "\n",
    "#ANOVA model\n",
    "\n",
    "from statsmodels.formula.api import ols\n",
    "import statsmodels.api as sm\n",
    "\n",
    "# Create the ANOVA model\n",
    "ANOVAmodel = ols('Y_2~X_2', data=duringcovid_data).fit()\n",
    "\n",
    "# Perform ANOVA\n",
    "anova_table = sm.stats.anova_lm(ANOVAmodel)\n",
    "\n",
    "# Print the ANOVA table\n",
    "print(anova_table)\n",
    "\n",
    "# Perform OLS regression\n",
    "model2 = sm.OLS(Y_2, X_2).fit()\n",
    "\n",
    "# Print the summary of the regression\n",
    "print(model2.summary())"
   ]
  },
  {
   "cell_type": "code",
   "execution_count": null,
   "metadata": {
    "vscode": {
     "languageId": "shellscript"
    }
   },
   "outputs": [],
   "source": [
    "from statsmodels.stats.diagnostic import het_breuschpagan, acorr_breusch_godfrey, het_arch\n",
    "# Add a constant column to the exog variable\n",
    "exog_with_constant = sm.add_constant(model2.model.exog)\n",
    "\n",
    "# Perform the Breusch-Pagan test with the updated exog variable\n",
    "bp_test = het_breuschpagan(model2.resid, exog_with_constant)\n",
    "bp_labels = ['Lagrange multiplier statistic', 'p-value', 'f-value', 'f p-value']\n",
    "print(\"Breusch-Pagan test:\", dict(zip(bp_labels, bp_test)))\n",
    "\n",
    "# Breusch-Godfrey test for autocorrelation\n",
    "bg_test = acorr_breusch_godfrey(model2, nlags=1)\n",
    "bg_labels = ['Lagrange multiplier statistic', 'p-value', 'f-value', 'f p-value']\n",
    "print(\"Breusch-Godfrey test:\", dict(zip(bg_labels, bg_test)))\n",
    "\n"
   ]
  },
  {
   "cell_type": "code",
   "execution_count": null,
   "metadata": {
    "vscode": {
     "languageId": "shellscript"
    }
   },
   "outputs": [],
   "source": [
    "# Newey-West standard errors - Corrects for autocorrelation\n",
    "nw_summary = model2.get_robustcov_results(cov_type='HAC', maxlags=1)\n",
    "print(nw_summary.summary())\n",
    "\n",
    "#Addressing heteroscedasticity\n",
    "robust_summary = model2.get_robustcov_results(cov_type='HC1')\n",
    "print(robust_summary.summary())"
   ]
  }
 ],
 "metadata": {
  "kernelspec": {
   "display_name": "Python 3",
   "language": "python",
   "name": "python3"
  },
  "language_info": {
   "codemirror_mode": {
    "name": "ipython",
    "version": 3
   },
   "file_extension": ".py",
   "mimetype": "text/x-python",
   "name": "python",
   "nbconvert_exporter": "python",
   "pygments_lexer": "ipython3",
   "version": "3.11.4"
  }
 },
 "nbformat": 4,
 "nbformat_minor": 2
}
